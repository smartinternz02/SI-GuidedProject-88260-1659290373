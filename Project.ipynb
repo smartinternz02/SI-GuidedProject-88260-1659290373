{
  "nbformat": 4,
  "nbformat_minor": 0,
  "metadata": {
    "colab": {
      "name": "Project.ipynb",
      "provenance": [],
      "collapsed_sections": []
    },
    "kernelspec": {
      "name": "python3",
      "display_name": "Python 3"
    },
    "language_info": {
      "name": "python"
    }
  },
  "cells": [
    {
      "cell_type": "code",
      "execution_count": 1,
      "metadata": {
        "id": "I57qSU4UaSCt"
      },
      "outputs": [],
      "source": [
        "from keras.preprocessing.image import ImageDataGenerator\n"
      ]
    },
    {
      "cell_type": "code",
      "source": [
        "train_datagen=ImageDataGenerator(rescale=1./255,shear_range=0.2,zoom_range=0.2,horizontal_flip=True)"
      ],
      "metadata": {
        "id": "cKGPr7nGbW_z"
      },
      "execution_count": 2,
      "outputs": []
    },
    {
      "cell_type": "code",
      "source": [
        "test_datagen=ImageDataGenerator(rescale=1)"
      ],
      "metadata": {
        "id": "SegPk8VQb5Xr"
      },
      "execution_count": 3,
      "outputs": []
    },
    {
      "cell_type": "code",
      "source": [
        "from google.colab import drive\n",
        "drive.mount('/content/gdrive')"
      ],
      "metadata": {
        "colab": {
          "base_uri": "https://localhost:8080/"
        },
        "id": "S4i5sraQschQ",
        "outputId": "38911510-18de-405e-b790-940190fb2212"
      },
      "execution_count": 4,
      "outputs": [
        {
          "output_type": "stream",
          "name": "stdout",
          "text": [
            "Mounted at /content/gdrive\n"
          ]
        }
      ]
    },
    {
      "cell_type": "code",
      "source": [
        "x_train=train_datagen.flow_from_directory('/content/gdrive/MyDrive/Dataset Plant Disease/fruit-dataset',target_size=(128,128),batch_size=32,class_mode='categorical')"
      ],
      "metadata": {
        "colab": {
          "base_uri": "https://localhost:8080/"
        },
        "id": "m8m5vyWncJUM",
        "outputId": "59b06429-24b7-41c6-de42-fc1553eb7ba0"
      },
      "execution_count": 5,
      "outputs": [
        {
          "output_type": "stream",
          "name": "stdout",
          "text": [
            "Found 7070 images belonging to 1 classes.\n"
          ]
        }
      ]
    },
    {
      "cell_type": "code",
      "source": [
        "x_train=train_datagen.flow_from_directory('/content/gdrive/MyDrive/Dataset Plant Disease/fruit-dataset/fruit-dataset/train',target_size=(128,128),batch_size=32,class_mode='categorical')"
      ],
      "metadata": {
        "colab": {
          "base_uri": "https://localhost:8080/"
        },
        "id": "is8VeL3xghKu",
        "outputId": "1efbe474-bffc-4eeb-c622-e658fdeb653a"
      },
      "execution_count": 7,
      "outputs": [
        {
          "output_type": "stream",
          "name": "stdout",
          "text": [
            "Found 5384 images belonging to 6 classes.\n"
          ]
        }
      ]
    },
    {
      "cell_type": "code",
      "source": [
        "x_test=test_datagen.flow_from_directory('/content/gdrive/MyDrive/Dataset Plant Disease/fruit-dataset/fruit-dataset/test',target_size=(128,128),batch_size=32,class_mode='categorical')"
      ],
      "metadata": {
        "colab": {
          "base_uri": "https://localhost:8080/"
        },
        "id": "oyu6zC9GlLMo",
        "outputId": "0a98ea5b-66f7-48b1-a505-b9cdf6ac8dde"
      },
      "execution_count": 8,
      "outputs": [
        {
          "output_type": "stream",
          "name": "stdout",
          "text": [
            "Found 1686 images belonging to 6 classes.\n"
          ]
        }
      ]
    },
    {
      "cell_type": "code",
      "source": [
        "from keras.models import Sequential "
      ],
      "metadata": {
        "id": "QbT8k-LzldJ_"
      },
      "execution_count": 9,
      "outputs": []
    },
    {
      "cell_type": "code",
      "source": [
        "from keras.layers import Dense"
      ],
      "metadata": {
        "id": "IvG4gTp3mCv6"
      },
      "execution_count": 10,
      "outputs": []
    },
    {
      "cell_type": "code",
      "source": [
        "from keras.layers import Convolution2D"
      ],
      "metadata": {
        "id": "-vXxYUdRmQng"
      },
      "execution_count": 11,
      "outputs": []
    },
    {
      "cell_type": "code",
      "source": [
        "from keras.layers import MaxPooling2D"
      ],
      "metadata": {
        "id": "vylDn-3pmf4j"
      },
      "execution_count": 12,
      "outputs": []
    },
    {
      "cell_type": "code",
      "source": [
        "from keras.layers import Flatten"
      ],
      "metadata": {
        "id": "vTMKqUzxmljy"
      },
      "execution_count": 13,
      "outputs": []
    },
    {
      "cell_type": "code",
      "source": [
        "model=Sequential()"
      ],
      "metadata": {
        "id": "wp4eBAhsmrG0"
      },
      "execution_count": 14,
      "outputs": []
    },
    {
      "cell_type": "code",
      "source": [
        "model.add(Convolution2D(32,(3,3),input_shape=(128,128,3),activation='relu'))"
      ],
      "metadata": {
        "id": "ylzNSWtPm0vf"
      },
      "execution_count": 15,
      "outputs": []
    },
    {
      "cell_type": "code",
      "source": [
        "model.add(MaxPooling2D(pool_size=(2,2)))"
      ],
      "metadata": {
        "id": "fw0do9o9ndYN"
      },
      "execution_count": 16,
      "outputs": []
    },
    {
      "cell_type": "code",
      "source": [
        "model.add(Flatten())"
      ],
      "metadata": {
        "id": "pAaNjE-Nnyvt"
      },
      "execution_count": 17,
      "outputs": []
    },
    {
      "cell_type": "code",
      "source": [
        "model.add(Dense(units = 6 ,activation='relu')) "
      ],
      "metadata": {
        "id": "Xr8HuHHJrmUN"
      },
      "execution_count": 18,
      "outputs": []
    },
    {
      "cell_type": "code",
      "source": [
        "model.add(Dense(units= 6,activation='relu')) \n",
        "                "
      ],
      "metadata": {
        "id": "rVCUCjksr-9_"
      },
      "execution_count": 19,
      "outputs": []
    },
    {
      "cell_type": "code",
      "source": [
        "model.add(Dense(units=6,activation='softmax')) "
      ],
      "metadata": {
        "id": "9qFmDtp6sFUP"
      },
      "execution_count": 20,
      "outputs": []
    },
    {
      "cell_type": "code",
      "source": [
        "model.compile(loss='categorical_crossentropy',optimizer=\"adam\",metrics=[\"accuracy\"])"
      ],
      "metadata": {
        "id": "AHHFiaNdsYAO"
      },
      "execution_count": 21,
      "outputs": []
    },
    {
      "cell_type": "code",
      "source": [
        "model.fit_generator(x_train,steps_per_epoch= 89,epochs =20, validation_data=x_test,validation_steps=27)"
      ],
      "metadata": {
        "colab": {
          "base_uri": "https://localhost:8080/"
        },
        "id": "SPZ9z5KrC1p2",
        "outputId": "fd73fbd8-4321-4cc7-8a7a-ebd92e6bb60b"
      },
      "execution_count": 22,
      "outputs": [
        {
          "output_type": "stream",
          "name": "stderr",
          "text": [
            "/usr/local/lib/python3.7/dist-packages/ipykernel_launcher.py:1: UserWarning: `Model.fit_generator` is deprecated and will be removed in a future version. Please use `Model.fit`, which supports generators.\n",
            "  \"\"\"Entry point for launching an IPython kernel.\n"
          ]
        },
        {
          "output_type": "stream",
          "name": "stdout",
          "text": [
            "Epoch 1/20\n",
            "89/89 [==============================] - 1719s 19s/step - loss: 1.8148 - accuracy: 0.3346 - val_loss: 1.7597 - val_accuracy: 0.2824\n",
            "Epoch 2/20\n",
            "89/89 [==============================] - 802s 9s/step - loss: 1.7384 - accuracy: 0.3431 - val_loss: 1.7362 - val_accuracy: 0.2824\n",
            "Epoch 3/20\n",
            "89/89 [==============================] - 381s 4s/step - loss: 1.7071 - accuracy: 0.3399 - val_loss: 1.7046 - val_accuracy: 0.2905\n",
            "Epoch 4/20\n",
            "89/89 [==============================] - 207s 2s/step - loss: 1.6870 - accuracy: 0.3343 - val_loss: 1.6842 - val_accuracy: 0.2986\n",
            "Epoch 5/20\n",
            "89/89 [==============================] - 121s 1s/step - loss: 1.6676 - accuracy: 0.3357 - val_loss: 1.6684 - val_accuracy: 0.2998\n",
            "Epoch 6/20\n",
            "89/89 [==============================] - 77s 866ms/step - loss: 1.6474 - accuracy: 0.3402 - val_loss: 1.6608 - val_accuracy: 0.3021\n",
            "Epoch 7/20\n",
            "89/89 [==============================] - 51s 573ms/step - loss: 1.6444 - accuracy: 0.3392 - val_loss: 1.6552 - val_accuracy: 0.2963\n",
            "Epoch 8/20\n",
            "89/89 [==============================] - 45s 501ms/step - loss: 1.6518 - accuracy: 0.3290 - val_loss: 1.6618 - val_accuracy: 0.2894\n",
            "Epoch 9/20\n",
            "89/89 [==============================] - 46s 512ms/step - loss: 1.6478 - accuracy: 0.3336 - val_loss: 1.6363 - val_accuracy: 0.3090\n",
            "Epoch 10/20\n",
            "89/89 [==============================] - 40s 446ms/step - loss: 1.6373 - accuracy: 0.3410 - val_loss: 1.6506 - val_accuracy: 0.2963\n",
            "Epoch 11/20\n",
            "89/89 [==============================] - 39s 436ms/step - loss: 1.6374 - accuracy: 0.3367 - val_loss: 1.6500 - val_accuracy: 0.3079\n",
            "Epoch 12/20\n",
            "89/89 [==============================] - 39s 440ms/step - loss: 1.6472 - accuracy: 0.3322 - val_loss: 1.6476 - val_accuracy: 0.2905\n",
            "Epoch 13/20\n",
            "89/89 [==============================] - 37s 418ms/step - loss: 1.6378 - accuracy: 0.3353 - val_loss: 1.6706 - val_accuracy: 0.2812\n",
            "Epoch 14/20\n",
            "89/89 [==============================] - 38s 429ms/step - loss: 1.6397 - accuracy: 0.3392 - val_loss: 1.6756 - val_accuracy: 0.2731\n",
            "Epoch 15/20\n",
            "89/89 [==============================] - 38s 421ms/step - loss: 1.6506 - accuracy: 0.3325 - val_loss: 1.6573 - val_accuracy: 0.2824\n",
            "Epoch 16/20\n",
            "89/89 [==============================] - 37s 416ms/step - loss: 1.6341 - accuracy: 0.3421 - val_loss: 1.6492 - val_accuracy: 0.2975\n",
            "Epoch 17/20\n",
            "89/89 [==============================] - 37s 415ms/step - loss: 1.6474 - accuracy: 0.3279 - val_loss: 1.6700 - val_accuracy: 0.2755\n",
            "Epoch 18/20\n",
            "89/89 [==============================] - 38s 428ms/step - loss: 1.6343 - accuracy: 0.3385 - val_loss: 1.6494 - val_accuracy: 0.2894\n",
            "Epoch 19/20\n",
            "89/89 [==============================] - 38s 424ms/step - loss: 1.6404 - accuracy: 0.3371 - val_loss: 1.6553 - val_accuracy: 0.2836\n",
            "Epoch 20/20\n",
            "89/89 [==============================] - 38s 421ms/step - loss: 1.6468 - accuracy: 0.3304 - val_loss: 1.6498 - val_accuracy: 0.2708\n"
          ]
        },
        {
          "output_type": "execute_result",
          "data": {
            "text/plain": [
              "<keras.callbacks.History at 0x7f4f1644ae10>"
            ]
          },
          "metadata": {},
          "execution_count": 22
        }
      ]
    },
    {
      "cell_type": "code",
      "source": [
        "model.save(\"fruit.h5\")"
      ],
      "metadata": {
        "id": "_z3RtVjC3afE"
      },
      "execution_count": 23,
      "outputs": []
    },
    {
      "cell_type": "code",
      "source": [
        "model.summary()"
      ],
      "metadata": {
        "id": "wcEswgvFu0s2",
        "colab": {
          "base_uri": "https://localhost:8080/"
        },
        "outputId": "e2d9897f-30ba-44f0-fc9d-dfcbde3a6f5e"
      },
      "execution_count": 24,
      "outputs": [
        {
          "output_type": "stream",
          "name": "stdout",
          "text": [
            "Model: \"sequential\"\n",
            "_________________________________________________________________\n",
            " Layer (type)                Output Shape              Param #   \n",
            "=================================================================\n",
            " conv2d (Conv2D)             (None, 126, 126, 32)      896       \n",
            "                                                                 \n",
            " max_pooling2d (MaxPooling2D  (None, 63, 63, 32)       0         \n",
            " )                                                               \n",
            "                                                                 \n",
            " flatten (Flatten)           (None, 127008)            0         \n",
            "                                                                 \n",
            " dense (Dense)               (None, 6)                 762054    \n",
            "                                                                 \n",
            " dense_1 (Dense)             (None, 6)                 42        \n",
            "                                                                 \n",
            " dense_2 (Dense)             (None, 6)                 42        \n",
            "                                                                 \n",
            "=================================================================\n",
            "Total params: 763,034\n",
            "Trainable params: 763,034\n",
            "Non-trainable params: 0\n",
            "_________________________________________________________________\n"
          ]
        }
      ]
    },
    {
      "cell_type": "code",
      "source": [
        "from keras.preprocessing.image import ImageDataGenerator"
      ],
      "metadata": {
        "id": "eTNi8NRZvaw5"
      },
      "execution_count": 25,
      "outputs": []
    },
    {
      "cell_type": "code",
      "source": [
        "train_datagen=ImageDataGenerator(rescale=1./255,shear_range=0.2,zoom_range=0.2,horizontal_flip=True)"
      ],
      "metadata": {
        "id": "LhYwzckRvsvs"
      },
      "execution_count": 26,
      "outputs": []
    },
    {
      "cell_type": "code",
      "source": [
        "test_datagen=ImageDataGenerator(rescale=1)"
      ],
      "metadata": {
        "id": "cLmbSH0Qv3pv"
      },
      "execution_count": 27,
      "outputs": []
    },
    {
      "cell_type": "code",
      "source": [
        "x_train=train_datagen.flow_from_directory('/content/gdrive/MyDrive/Dataset Plant Disease/Veg-dataset/Veg-dataset/train_set',target_size=(128,128),batch_size=16,class_mode='categorical')"
      ],
      "metadata": {
        "id": "bh2FWjXlv47Z",
        "colab": {
          "base_uri": "https://localhost:8080/"
        },
        "outputId": "88888730-610e-4a10-9e3c-224d39e2efb5"
      },
      "execution_count": 28,
      "outputs": [
        {
          "output_type": "stream",
          "name": "stdout",
          "text": [
            "Found 11386 images belonging to 9 classes.\n"
          ]
        }
      ]
    },
    {
      "cell_type": "code",
      "source": [
        "x_test=test_datagen.flow_from_directory('/content/gdrive/MyDrive/Dataset Plant Disease/Veg-dataset/Veg-dataset/test_set',target_size=(128,128),batch_size=16,class_mode='categorical')"
      ],
      "metadata": {
        "id": "6Rr769IrwNiF",
        "colab": {
          "base_uri": "https://localhost:8080/"
        },
        "outputId": "989979a9-6a2c-41e4-c616-7106a14a0b5a"
      },
      "execution_count": 29,
      "outputs": [
        {
          "output_type": "stream",
          "name": "stdout",
          "text": [
            "Found 3416 images belonging to 9 classes.\n"
          ]
        }
      ]
    },
    {
      "cell_type": "code",
      "source": [
        "from keras.models import Sequential "
      ],
      "metadata": {
        "id": "987VQ1KTwpQt"
      },
      "execution_count": 30,
      "outputs": []
    },
    {
      "cell_type": "code",
      "source": [
        "from keras.layers import Dense"
      ],
      "metadata": {
        "id": "H3kEUYEvw4J-"
      },
      "execution_count": 31,
      "outputs": []
    },
    {
      "cell_type": "code",
      "source": [
        "from keras.layers import Convolution2D"
      ],
      "metadata": {
        "id": "-9jMKq8dw-Ig"
      },
      "execution_count": 32,
      "outputs": []
    },
    {
      "cell_type": "code",
      "source": [
        "from keras.layers import MaxPooling2D"
      ],
      "metadata": {
        "id": "avFKQGraw-_N"
      },
      "execution_count": 33,
      "outputs": []
    },
    {
      "cell_type": "code",
      "source": [
        "from keras.layers import Flatten"
      ],
      "metadata": {
        "id": "Tsl1lWVixC9w"
      },
      "execution_count": 34,
      "outputs": []
    },
    {
      "cell_type": "code",
      "source": [
        "model=Sequential()"
      ],
      "metadata": {
        "id": "wvAkob0IxGd8"
      },
      "execution_count": 35,
      "outputs": []
    },
    {
      "cell_type": "code",
      "source": [
        "model.add(Convolution2D(32,(3,3),input_shape=(128,128,3),activation='relu'))"
      ],
      "metadata": {
        "id": "yAXQnvKMxJnA"
      },
      "execution_count": 36,
      "outputs": []
    },
    {
      "cell_type": "code",
      "source": [
        "model.add(MaxPooling2D(pool_size=(2,2)))"
      ],
      "metadata": {
        "id": "1qGX_YshxOej"
      },
      "execution_count": 37,
      "outputs": []
    },
    {
      "cell_type": "code",
      "source": [
        "model.add(Flatten())"
      ],
      "metadata": {
        "id": "AkdUtWkExWh4"
      },
      "execution_count": 38,
      "outputs": []
    },
    {
      "cell_type": "code",
      "source": [
        "model.add(Dense(units= 9,activation='relu')) "
      ],
      "metadata": {
        "id": "n8nBQ-JKyMDw"
      },
      "execution_count": 39,
      "outputs": []
    },
    {
      "cell_type": "code",
      "source": [
        "model.add(Dense(units =9 ,activation='relu')) "
      ],
      "metadata": {
        "id": "AwdIR0eWLgOw"
      },
      "execution_count": 40,
      "outputs": []
    },
    {
      "cell_type": "code",
      "source": [
        "model.add(Dense(units=9, activation='relu')) "
      ],
      "metadata": {
        "id": "5-e-O88BzDFr"
      },
      "execution_count": 41,
      "outputs": []
    },
    {
      "cell_type": "code",
      "source": [
        "model.compile(loss='categorical_crossentropy',optimizer=\"adam\",metrics=[\"accuracy\"])"
      ],
      "metadata": {
        "id": "-DheRxAnzIwC"
      },
      "execution_count": 42,
      "outputs": []
    },
    {
      "cell_type": "code",
      "source": [
        "model.fit_generator(x_train,steps_per_epoch= 89,epochs =20, validation_data=x_test,validation_steps=27)"
      ],
      "metadata": {
        "colab": {
          "base_uri": "https://localhost:8080/"
        },
        "id": "WCCQuxMHL5SI",
        "outputId": "e0ac3f2c-3cc5-495e-b474-27246ca632d5"
      },
      "execution_count": 43,
      "outputs": [
        {
          "output_type": "stream",
          "name": "stderr",
          "text": [
            "/usr/local/lib/python3.7/dist-packages/ipykernel_launcher.py:1: UserWarning: `Model.fit_generator` is deprecated and will be removed in a future version. Please use `Model.fit`, which supports generators.\n",
            "  \"\"\"Entry point for launching an IPython kernel.\n"
          ]
        },
        {
          "output_type": "stream",
          "name": "stdout",
          "text": [
            "Epoch 1/20\n",
            "89/89 [==============================] - 940s 11s/step - loss: 11.3386 - accuracy: 0.1440 - val_loss: 11.3802 - val_accuracy: 0.1898\n",
            "Epoch 2/20\n",
            "89/89 [==============================] - 784s 9s/step - loss: 11.8785 - accuracy: 0.1201 - val_loss: 12.1653 - val_accuracy: 0.0903\n",
            "Epoch 3/20\n",
            "89/89 [==============================] - 687s 8s/step - loss: 12.0224 - accuracy: 0.0871 - val_loss: 12.4985 - val_accuracy: 0.0764\n",
            "Epoch 4/20\n",
            "89/89 [==============================] - 580s 7s/step - loss: 12.3167 - accuracy: 0.0794 - val_loss: 12.4639 - val_accuracy: 0.0949\n",
            "Epoch 5/20\n",
            "89/89 [==============================] - 493s 6s/step - loss: 12.5558 - accuracy: 0.0751 - val_loss: 12.0557 - val_accuracy: 0.0856\n",
            "Epoch 6/20\n",
            "89/89 [==============================] - 455s 5s/step - loss: 12.3787 - accuracy: 0.0787 - val_loss: 12.1575 - val_accuracy: 0.0972\n",
            "Epoch 7/20\n",
            "89/89 [==============================] - 386s 4s/step - loss: 12.3221 - accuracy: 0.0864 - val_loss: 11.8089 - val_accuracy: 0.1065\n",
            "Epoch 8/20\n",
            "89/89 [==============================] - 331s 4s/step - loss: 12.2556 - accuracy: 0.0896 - val_loss: 11.7387 - val_accuracy: 0.0926\n",
            "Epoch 9/20\n",
            "89/89 [==============================] - 290s 3s/step - loss: 12.1855 - accuracy: 0.0779 - val_loss: 11.9116 - val_accuracy: 0.0926\n",
            "Epoch 10/20\n",
            "89/89 [==============================] - 249s 3s/step - loss: 12.1739 - accuracy: 0.0850 - val_loss: 12.1895 - val_accuracy: 0.0880\n",
            "Epoch 11/20\n",
            "89/89 [==============================] - 204s 2s/step - loss: 12.0687 - accuracy: 0.0815 - val_loss: 11.4941 - val_accuracy: 0.0972\n",
            "Epoch 12/20\n",
            "89/89 [==============================] - 181s 2s/step - loss: 12.2048 - accuracy: 0.0941 - val_loss: 12.1547 - val_accuracy: 0.0833\n",
            "Epoch 13/20\n",
            "89/89 [==============================] - 178s 2s/step - loss: 12.2368 - accuracy: 0.0906 - val_loss: 11.8422 - val_accuracy: 0.0972\n",
            "Epoch 14/20\n",
            "89/89 [==============================] - 192s 2s/step - loss: 12.4167 - accuracy: 0.0772 - val_loss: 11.1817 - val_accuracy: 0.1065\n",
            "Epoch 15/20\n",
            "89/89 [==============================] - 137s 2s/step - loss: 12.1315 - accuracy: 0.0794 - val_loss: 12.0852 - val_accuracy: 0.0856\n",
            "Epoch 16/20\n",
            "89/89 [==============================] - 111s 1s/step - loss: 12.1944 - accuracy: 0.0920 - val_loss: 11.4973 - val_accuracy: 0.0741\n",
            "Epoch 17/20\n",
            "89/89 [==============================] - 111s 1s/step - loss: 12.1631 - accuracy: 0.0920 - val_loss: 11.8083 - val_accuracy: 0.0880\n",
            "Epoch 18/20\n",
            "89/89 [==============================] - 102s 1s/step - loss: 12.4061 - accuracy: 0.0744 - val_loss: 12.1890 - val_accuracy: 0.0810\n",
            "Epoch 19/20\n",
            "89/89 [==============================] - 86s 977ms/step - loss: 12.2583 - accuracy: 0.0794 - val_loss: 12.2936 - val_accuracy: 0.0903\n",
            "Epoch 20/20\n",
            "89/89 [==============================] - 81s 908ms/step - loss: 12.2100 - accuracy: 0.0804 - val_loss: 12.3285 - val_accuracy: 0.0810\n"
          ]
        },
        {
          "output_type": "execute_result",
          "data": {
            "text/plain": [
              "<keras.callbacks.History at 0x7f4f15a62590>"
            ]
          },
          "metadata": {},
          "execution_count": 43
        }
      ]
    },
    {
      "cell_type": "code",
      "source": [
        "model.save(\"vegetable.h5\")"
      ],
      "metadata": {
        "id": "3jYErHX7z91m"
      },
      "execution_count": 44,
      "outputs": []
    },
    {
      "cell_type": "code",
      "source": [
        "\n"
      ],
      "metadata": {
        "id": "Y6oQtVSo0ZBQ"
      },
      "execution_count": 45,
      "outputs": []
    },
    {
      "cell_type": "code",
      "source": [
        ""
      ],
      "metadata": {
        "id": "026LUMwBNmwz"
      },
      "execution_count": null,
      "outputs": []
    }
  ]
}