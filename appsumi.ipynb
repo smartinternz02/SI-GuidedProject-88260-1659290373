{
  "nbformat": 4,
  "nbformat_minor": 0,
  "metadata": {
    "colab": {
      "name": "appsumi.ipynb",
      "provenance": []
    },
    "kernelspec": {
      "name": "python3",
      "display_name": "Python 3"
    },
    "language_info": {
      "name": "python"
    }
  },
  "cells": [
    {
      "cell_type": "code",
      "execution_count": 1,
      "metadata": {
        "id": "cN85siJ8M4i6"
      },
      "outputs": [],
      "source": [
        "import requests"
      ]
    },
    {
      "cell_type": "code",
      "source": [
        "from tensorflow.keras.preprocessing import image"
      ],
      "metadata": {
        "id": "8xUVhqVaM5xu"
      },
      "execution_count": 2,
      "outputs": []
    },
    {
      "cell_type": "code",
      "source": [
        "from tensorflow.keras.models import load_model"
      ],
      "metadata": {
        "id": "i_9d5l0oM988"
      },
      "execution_count": 3,
      "outputs": []
    },
    {
      "cell_type": "code",
      "source": [
        "import numpy as np\n",
        "import pandas as pd\n",
        "import tensorflow as tf"
      ],
      "metadata": {
        "id": "z8xVxPJnNAwn"
      },
      "execution_count": 6,
      "outputs": []
    },
    {
      "cell_type": "code",
      "source": [
        "from flask import Flask, request, render_template, redirect, url_for\n",
        "import os\n",
        "from werkzeug.utils import secure_filename\n",
        "from tensorflow.python.keras.backend import set_session"
      ],
      "metadata": {
        "id": "8zD461EHNFY9"
      },
      "execution_count": 5,
      "outputs": []
    },
    {
      "cell_type": "code",
      "source": [
        "app = Flask(__name__)\n",
        "global sess"
      ],
      "metadata": {
        "id": "Sr5R1IiWNOD0"
      },
      "execution_count": 7,
      "outputs": []
    },
    {
      "cell_type": "code",
      "source": [
        "global graph\n",
        "graph=tf.compat.v1.get_default_graph()"
      ],
      "metadata": {
        "id": "2qrnIX5kNSQ9"
      },
      "execution_count": 8,
      "outputs": []
    },
    {
      "cell_type": "code",
      "source": [
        "from google.colab import drive\n",
        "drive.mount('/content/gdrive')"
      ],
      "metadata": {
        "colab": {
          "base_uri": "https://localhost:8080/"
        },
        "id": "c7H6nVKxRrPx",
        "outputId": "7549793b-bfbc-48b6-8c5c-639c7edfca2f"
      },
      "execution_count": 19,
      "outputs": [
        {
          "output_type": "stream",
          "name": "stdout",
          "text": [
            "Mounted at /content/gdrive\n"
          ]
        }
      ]
    },
    {
      "cell_type": "code",
      "source": [
        "model = load_model(\"/fruit.h5\")\n",
        "model1=load_model(\"/vegetable.h5\")"
      ],
      "metadata": {
        "id": "4ZfaM63ONU3i"
      },
      "execution_count": 10,
      "outputs": []
    },
    {
      "cell_type": "code",
      "source": [
        "@app.route('/')\n",
        "def home():\n",
        "    return render_template('home.html')"
      ],
      "metadata": {
        "id": "bPuIw8BqNiZV"
      },
      "execution_count": 11,
      "outputs": []
    },
    {
      "cell_type": "code",
      "source": [
        "@app.route('/prediction')\n",
        "def prediction():\n",
        "    return render_template('predict.html')\n"
      ],
      "metadata": {
        "id": "79D16tXJNqmf"
      },
      "execution_count": 13,
      "outputs": []
    },
    {
      "cell_type": "code",
      "source": [
        "@app.route('/predict',methods=['POST'])\t\t\n",
        "def predict():\n",
        "    if request.method == 'POST':\n",
        "\n",
        "        f = request.files['image']"
      ],
      "metadata": {
        "id": "_qAu8hHMPON4"
      },
      "execution_count": 15,
      "outputs": []
    },
    {
      "cell_type": "code",
      "source": [
        "import os; os.chdir('/content/gdrive')"
      ],
      "metadata": {
        "id": "NQFIHs22RX25"
      },
      "execution_count": 21,
      "outputs": []
    },
    {
      "cell_type": "code",
      "source": [
        "basepath = os.path.dirname(__file__)\n",
        "        file_path = os.path.join(basepath, 'Dataset Plant Disease', secure_filename(f.filename))\n",
        "        f.save(file_path)\n",
        "        img = image.load_img(file_path, target_size=(128, 128))"
      ],
      "metadata": {
        "colab": {
          "base_uri": "https://localhost:8080/",
          "height": 130
        },
        "id": "vUl0xX4rOOc-",
        "outputId": "bc234b2c-1931-470c-d09e-4f8b84a2d47e"
      },
      "execution_count": 24,
      "outputs": [
        {
          "output_type": "error",
          "ename": "IndentationError",
          "evalue": "ignored",
          "traceback": [
            "\u001b[0;36m  File \u001b[0;32m\"<ipython-input-24-16f1a2dcdcad>\"\u001b[0;36m, line \u001b[0;32m2\u001b[0m\n\u001b[0;31m    file_path = os.path.join(basepath, 'Dataset Plant Disease', secure_filename(f.filename))\u001b[0m\n\u001b[0m    ^\u001b[0m\n\u001b[0;31mIndentationError\u001b[0m\u001b[0;31m:\u001b[0m unexpected indent\n"
          ]
        }
      ]
    },
    {
      "cell_type": "code",
      "source": [
        "basepath = os.path.dirname(file)"
      ],
      "metadata": {
        "colab": {
          "base_uri": "https://localhost:8080/",
          "height": 165
        },
        "id": "vZFGH1oFOF8x",
        "outputId": "7c582682-d449-480b-b177-8aea8652efe3"
      },
      "execution_count": 26,
      "outputs": [
        {
          "output_type": "error",
          "ename": "NameError",
          "evalue": "ignored",
          "traceback": [
            "\u001b[0;31m---------------------------------------------------------------------------\u001b[0m",
            "\u001b[0;31mNameError\u001b[0m                                 Traceback (most recent call last)",
            "\u001b[0;32m<ipython-input-26-72d77104cc08>\u001b[0m in \u001b[0;36m<module>\u001b[0;34m()\u001b[0m\n\u001b[0;32m----> 1\u001b[0;31m \u001b[0mbasepath\u001b[0m \u001b[0;34m=\u001b[0m \u001b[0mos\u001b[0m\u001b[0;34m.\u001b[0m\u001b[0mpath\u001b[0m\u001b[0;34m.\u001b[0m\u001b[0mdirname\u001b[0m\u001b[0;34m(\u001b[0m\u001b[0mfile\u001b[0m\u001b[0;34m)\u001b[0m\u001b[0;34m\u001b[0m\u001b[0;34m\u001b[0m\u001b[0m\n\u001b[0m",
            "\u001b[0;31mNameError\u001b[0m: name 'file' is not defined"
          ]
        }
      ]
    },
    {
      "cell_type": "code",
      "source": [
        ""
      ],
      "metadata": {
        "id": "777AsKl6OF-w"
      },
      "execution_count": null,
      "outputs": []
    },
    {
      "cell_type": "code",
      "source": [
        "if request.method == 'POST':"
      ],
      "metadata": {
        "id": "5UM8_ySxN8UG"
      },
      "execution_count": null,
      "outputs": []
    },
    {
      "cell_type": "code",
      "source": [
        "f = request.files['image']"
      ],
      "metadata": {
        "id": "9ioTU7dcN_Qi"
      },
      "execution_count": null,
      "outputs": []
    },
    {
      "cell_type": "code",
      "source": [
        "basepath = os.path.dirname(__file__)"
      ],
      "metadata": {
        "id": "9FWkQJ8tOBKu"
      },
      "execution_count": null,
      "outputs": []
    },
    {
      "cell_type": "code",
      "source": [
        "f.save(file_path)\n",
        "        img = image.load_img(file_path, target_size=(128, 128))\n",
        "        \n",
        "        x = image.img_to_array(img)\n",
        "        x = np.expand_dims(x, axis=0)"
      ],
      "metadata": {
        "id": "jDW0SsUuOUPG"
      },
      "execution_count": null,
      "outputs": []
    },
    {
      "cell_type": "code",
      "source": [
        "file_path = os.path.join(basepath, 'Dataset Plant Disease', secure_filename(f.filename))"
      ],
      "metadata": {
        "id": "kJt1aGP0OIaU"
      },
      "execution_count": null,
      "outputs": []
    },
    {
      "cell_type": "code",
      "source": [
        "plant=request.form['plant']\n",
        "        print(plant)\n",
        "\n",
        "        if(plant==\"vegetable\"):\n",
        "            preds = model.predict(x)\n",
        "            preds = np.argmax(preds)\n",
        "            print(preds)\n",
        "            df=pd.read_excel('precautions - veg.xlsx')\n",
        "            print(df.iloc[preds]['caution'])\n",
        "        else:\n",
        "            preds = model1.predict(x)\n",
        "            preds = np.argmax(preds)\n",
        "                \n",
        "            df=pd.read_excel('precautions - fruits.xlsx')\n",
        "            print(df.iloc[preds]['caution'])\n",
        "            "
      ],
      "metadata": {
        "id": "kI49JvczOg73"
      },
      "execution_count": null,
      "outputs": []
    }
  ]
}